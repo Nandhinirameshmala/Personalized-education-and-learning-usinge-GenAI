{
  "nbformat": 4,
  "nbformat_minor": 0,
  "metadata": {
    "colab": {
      "provenance": []
    },
    "kernelspec": {
      "name": "python3",
      "display_name": "Python 3"
    },
    "language_info": {
      "name": "python"
    }
  },
  "cells": [
    {
      "cell_type": "code",
      "execution_count": 2,
      "metadata": {
        "colab": {
          "base_uri": "https://localhost:8080/"
        },
        "id": "HvMOKfg35Qsw",
        "outputId": "a819f3c7-c444-4faa-8dbe-f9bfb31aee59"
      },
      "outputs": [
        {
          "output_type": "stream",
          "name": "stdout",
          "text": [
            "Recommended materials for student1: []\n"
          ]
        }
      ],
      "source": []
    },
    {
      "cell_type": "code",
      "source": [
        "import random\n",
        "\n",
        "# Sample user profiles (just for demonstration)\n",
        "user_profiles = {\n",
        "    \"student1\": {\"interests\": [\"algebra\", \"geometry\"], \"proficiency\": \"beginner\"},\n",
        "    \"student2\": {\"interests\": [\"trigonometry\", \"calculus\"], \"proficiency\": \"intermediate\"},\n",
        "    # Add more user profiles as needed\n",
        "}\n",
        "\n",
        "# Function to generate personalized math practice questions\n",
        "def generate_questions(user_profile):\n",
        "    interests = user_profile[\"interests\"]\n",
        "    proficiency = user_profile[\"proficiency\"]\n",
        "    question_set = []\n",
        "\n",
        "    # Generate questions based on user's interests and proficiency level\n",
        "    for interest in interests:\n",
        "        if interest == \"algebra\":\n",
        "            if proficiency == \"beginner\":\n",
        "                question_set.append(\"Solve for x: 2x + 5 = 15\")\n",
        "            elif proficiency == \"intermediate\":\n",
        "                question_set.append(\"Factor the following expression: x^2 + 5x + 6\")\n",
        "        elif interest == \"geometry\":\n",
        "            if proficiency == \"beginner\":\n",
        "                question_set.append(\"Find the area of a rectangle with length 4 and width 3\")\n",
        "            elif proficiency == \"intermediate\":\n",
        "                question_set.append(\"Calculate the volume of a cylinder with radius 3 and height 6\")\n",
        "        elif interest == \"trigonometry\":\n",
        "            if proficiency == \"beginner\":\n",
        "                question_set.append(\"Find the sine of angle 30 degrees\")\n",
        "            elif proficiency == \"intermediate\":\n",
        "                question_set.append(\"Solve for x: sin(x) = 0.5\")\n",
        "        elif interest == \"calculus\":\n",
        "            if proficiency == \"beginner\":\n",
        "                question_set.append(\"Find the derivative of y = x^2 + 3x - 2\")\n",
        "            elif proficiency == \"intermediate\":\n",
        "                question_set.append(\"Integrate the function f(x) = 2x^3 + 4x^2 + 3x + 5\")\n",
        "\n",
        "    return question_set\n",
        "\n",
        "# Get user input for user profile\n",
        "user = input(\"Enter user profile (e.g., student1): \")\n",
        "if user in user_profiles:\n",
        "    user_profile = user_profiles[user]\n",
        "    question_set = generate_questions(user_profile)\n",
        "    print(f\"\\nPersonalized math practice questions for {user}:\")\n",
        "    for idx, question in enumerate(question_set, 1):\n",
        "        print(f\"{idx}. {question}\")\n",
        "else:\n",
        "    print(\"User profile not found.\")\n"
      ],
      "metadata": {
        "colab": {
          "base_uri": "https://localhost:8080/"
        },
        "id": "50HdvocF9T-g",
        "outputId": "2705583d-b2f5-44c4-9cdf-6ba7a8c86a85"
      },
      "execution_count": 11,
      "outputs": [
        {
          "output_type": "stream",
          "name": "stdout",
          "text": [
            "Enter user profile (e.g., student1): student1\n",
            "\n",
            "Personalized math practice questions for student1:\n",
            "1. Solve for x: 2x + 5 = 15\n",
            "2. Find the area of a rectangle with length 4 and width 3\n"
          ]
        }
      ]
    }
  ]
}